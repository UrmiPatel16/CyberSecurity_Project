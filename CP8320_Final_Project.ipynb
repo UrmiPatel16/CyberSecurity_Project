{
  "nbformat": 4,
  "nbformat_minor": 0,
  "metadata": {
    "colab": {
      "name": "CP8320_Final_Project.ipynb",
      "provenance": [],
      "collapsed_sections": [],
      "toc_visible": true
    },
    "kernelspec": {
      "name": "python3",
      "display_name": "Python 3"
    },
    "language_info": {
      "name": "python"
    }
  },
  "cells": [
    {
      "cell_type": "markdown",
      "metadata": {
        "id": "Npq5SVAQ0s3X"
      },
      "source": [
        "# Cyber Security Project (CP8320)\n",
        "**Title: Detection of SQL injection with a Machine Learning approach**\n",
        "\n",
        "**Name : Urmi Patel (501064008)**"
      ]
    },
    {
      "cell_type": "markdown",
      "source": [
        "Press shift + enter -> to run the cell line by line"
      ],
      "metadata": {
        "id": "TWWdhqNeLkBE"
      }
    },
    {
      "cell_type": "markdown",
      "metadata": {
        "id": "IoB4v8Zv1aV0"
      },
      "source": [
        "#Import necessary libraries"
      ]
    },
    {
      "cell_type": "code",
      "metadata": {
        "id": "2m9kZWQ99RAH"
      },
      "source": [
        "import sys\n",
        "import pandas as pd\n",
        "import numpy as np\n",
        "import glob\n",
        "import time\n",
        "import nltk\n",
        "nltk.download('stopwords')\n",
        "from nltk.corpus import stopwords \n",
        "\n",
        "from sklearn.model_selection import train_test_split\n",
        "from sklearn.feature_extraction.text import CountVectorizer\n",
        "from sklearn.naive_bayes import GaussianNB\n",
        "from sklearn.svm import SVC\n",
        "from sklearn.neighbors import KNeighborsClassifier\n",
        "from sklearn.linear_model import LogisticRegression\n",
        "from sklearn import tree\n",
        "import tensorflow as tf\n",
        "from tensorflow.keras.models import Sequential\n",
        "from tensorflow.keras.models import Sequential\n",
        "from tensorflow.keras.layers import Dense, Dropout, Activation, Flatten, Conv2D, MaxPooling2D\n",
        "import pickle\n",
        "from sklearn.metrics import accuracy_score\n",
        "from keras.models import load_model\n"
      ],
      "execution_count": null,
      "outputs": []
    },
    {
      "cell_type": "markdown",
      "metadata": {
        "id": "-7ZFG25z1lCN"
      },
      "source": [
        "# Add/import dataset"
      ]
    },
    {
      "cell_type": "markdown",
      "source": [
        "when you run this cell, you have to click on a choose files button and select the provided dataset file (sqli.csv) and after the cell run, you can see the dataset file will be imported in this python file."
      ],
      "metadata": {
        "id": "pK5RvLFgLI04"
      }
    },
    {
      "cell_type": "code",
      "metadata": {
        "id": "0YmCWIEW9YJT"
      },
      "source": [
        "from google.colab import files\n",
        "uploaded = files.upload()\n",
        "for fn in uploaded.keys():\n",
        "  print('User uploaded file \"{name}\" with length {length} bytes'.format(name=fn, length=len(uploaded[fn])))"
      ],
      "execution_count": null,
      "outputs": []
    },
    {
      "cell_type": "code",
      "metadata": {
        "id": "fV2j346y9Ski"
      },
      "source": [
        "df = pd.read_csv('/content/sqli.csv',encoding='utf-16')"
      ],
      "execution_count": null,
      "outputs": []
    },
    {
      "cell_type": "code",
      "metadata": {
        "id": "U3-fKMRcNQJU"
      },
      "source": [
        "df.head()"
      ],
      "execution_count": null,
      "outputs": []
    },
    {
      "cell_type": "markdown",
      "metadata": {
        "id": "dOapD6XO15PX"
      },
      "source": [
        "# Vectorization"
      ]
    },
    {
      "cell_type": "code",
      "metadata": {
        "id": "DJEYbsed9VZr"
      },
      "source": [
        "vector = CountVectorizer( max_df=0.7, max_features=4096, stop_words=stopwords.words('english'))\n",
        "new_sent = vector.fit_transform(df['Sentence'].values.astype('U')).toarray()"
      ],
      "execution_count": null,
      "outputs": []
    },
    {
      "cell_type": "code",
      "source": [
        "#Printing the identified Unique words along with their indices\n",
        "print(\"Sentences: \", vector.vocabulary_)"
      ],
      "metadata": {
        "id": "uYTA0Wz8u8XA"
      },
      "execution_count": null,
      "outputs": []
    },
    {
      "cell_type": "code",
      "source": [
        "len(vector.vocabulary_.keys())"
      ],
      "metadata": {
        "id": "ZQVdZ3ZAxJpW"
      },
      "execution_count": null,
      "outputs": []
    },
    {
      "cell_type": "code",
      "metadata": {
        "id": "4iHJLF7RBqkg"
      },
      "source": [
        "print(new_sent)"
      ],
      "execution_count": null,
      "outputs": []
    },
    {
      "cell_type": "code",
      "metadata": {
        "id": "lQRzhSAjCzGb"
      },
      "source": [
        "new_sent.shape=(4200,64,64,1)\n",
        "new_sent.shape"
      ],
      "execution_count": null,
      "outputs": []
    },
    {
      "cell_type": "code",
      "metadata": {
        "id": "Mwog0sYUA4zX"
      },
      "source": [
        "X=new_sent\n",
        "y=df['Label']"
      ],
      "execution_count": null,
      "outputs": []
    },
    {
      "cell_type": "code",
      "metadata": {
        "id": "gUHdXM13CHm_"
      },
      "source": [
        "print(X)"
      ],
      "execution_count": null,
      "outputs": []
    },
    {
      "cell_type": "markdown",
      "metadata": {
        "id": "d0JyUsY11_1o"
      },
      "source": [
        "# Training Testing Splits"
      ]
    },
    {
      "cell_type": "code",
      "metadata": {
        "id": "Wp4fk-3BBP60"
      },
      "source": [
        "# spliting training and testing data\n",
        "X_train, X_test, y_train, y_test = train_test_split(X, y, test_size=0.2, random_state=42)"
      ],
      "execution_count": null,
      "outputs": []
    },
    {
      "cell_type": "code",
      "metadata": {
        "id": "oepaz20_BR1G"
      },
      "source": [
        "trainX=X_train.copy()\n",
        "trainX.shape=(X_train.shape[0],trainX.shape[1]*trainX.shape[2])\n",
        "testX=X_test.copy()\n",
        "testX.shape=(testX.shape[0],testX.shape[1]*testX.shape[2])\n"
      ],
      "execution_count": null,
      "outputs": []
    },
    {
      "cell_type": "markdown",
      "metadata": {
        "id": "Q_frE2od2F73"
      },
      "source": [
        "# Naive Bayes"
      ]
    },
    {
      "cell_type": "code",
      "metadata": {
        "id": "N_yrG81oBT5q"
      },
      "source": [
        "nb = GaussianNB()\n",
        "nb.fit(trainX, y_train)\n",
        "pred_nb = nb.predict(testX)"
      ],
      "execution_count": null,
      "outputs": []
    },
    {
      "cell_type": "markdown",
      "metadata": {
        "id": "ZZ-QicLe2JQF"
      },
      "source": [
        "# SVM (Support Vector Machine)"
      ]
    },
    {
      "cell_type": "code",
      "metadata": {
        "id": "rS-O1EjEC86H"
      },
      "source": [
        "clf = SVC(gamma='auto')\n",
        "clf.fit(trainX, y_train)\n",
        "pred_svm=clf.predict(testX)"
      ],
      "execution_count": null,
      "outputs": []
    },
    {
      "cell_type": "markdown",
      "source": [
        "# Logistic Regression"
      ],
      "metadata": {
        "id": "UBqS-5plK88G"
      }
    },
    {
      "cell_type": "code",
      "source": [
        "clff = LogisticRegression(random_state=0).fit(trainX, y_train)\n",
        "pred_lr=clff.predict(testX)"
      ],
      "metadata": {
        "id": "zZidvpo5K8QH"
      },
      "execution_count": null,
      "outputs": []
    },
    {
      "cell_type": "markdown",
      "metadata": {
        "id": "3xy2T2HQ2OIH"
      },
      "source": [
        "# KNN (K Nearest Neighbour)"
      ]
    },
    {
      "cell_type": "code",
      "metadata": {
        "id": "6PwTOAQdDBbn"
      },
      "source": [
        "kn = KNeighborsClassifier(n_neighbors=3)\n",
        "kn.fit(trainX, y_train)\n",
        "pred_knn = kn.predict(testX)"
      ],
      "execution_count": null,
      "outputs": []
    },
    {
      "cell_type": "markdown",
      "metadata": {
        "id": "U6_KmJ3V2Vv2"
      },
      "source": [
        "# DS (Decision Tree)"
      ]
    },
    {
      "cell_type": "code",
      "metadata": {
        "id": "x56X1dBZDG5M"
      },
      "source": [
        "dt = tree.DecisionTreeClassifier()\n",
        "dt = dt.fit(trainX, y_train)\n",
        "pred_dt = dt.predict(testX)"
      ],
      "execution_count": null,
      "outputs": []
    },
    {
      "cell_type": "markdown",
      "metadata": {
        "id": "WQqXoIkv2ff9"
      },
      "source": [
        "# Neural Network"
      ]
    },
    {
      "cell_type": "code",
      "source": [
        "model = Sequential()\n",
        "\n",
        "model.add(layers.Conv2D(64, (3, 3), activation='relu', input_shape=(64, 64, 1)))\n",
        "model.add(layers.MaxPooling2D((2, 2)))\n",
        "\n",
        "model.add(layers.Conv2D(128, (3, 3), activation='relu'))\n",
        "model.add(layers.MaxPooling2D((2, 2)))\n",
        "\n",
        "model.add(Flatten())\n",
        "model.add(Dense(64,activation='relu'))\n",
        "model.add(Dense(128,activation='relu'))\n",
        "model.add(Dense(1, activation='sigmoid'))"
      ],
      "metadata": {
        "id": "L8_J_uCOFCrf"
      },
      "execution_count": null,
      "outputs": []
    },
    {
      "cell_type": "code",
      "metadata": {
        "id": "KLrKsNDjDL7W"
      },
      "source": [
        "model.compile(loss='binary_crossentropy', \n",
        "              optimizer='adam', \n",
        "              metrics=['accuracy'])\n",
        "model.summary()"
      ],
      "execution_count": null,
      "outputs": []
    },
    {
      "cell_type": "code",
      "metadata": {
        "id": "sZbovkhSDSXS"
      },
      "source": [
        "classifier_nn = model.fit(X_train,y_train,epochs=10,validation_data=(X_test, y_test),batch_size=32)"
      ],
      "execution_count": null,
      "outputs": []
    },
    {
      "cell_type": "code",
      "metadata": {
        "id": "W09WqqwDDSZt"
      },
      "source": [
        " pred=model.predict(X_test)"
      ],
      "execution_count": null,
      "outputs": []
    },
    {
      "cell_type": "markdown",
      "metadata": {
        "id": "8AWiofRP2oJM"
      },
      "source": [
        "#Prediction"
      ]
    },
    {
      "cell_type": "code",
      "metadata": {
        "id": "OJHiITU1DSb1"
      },
      "source": [
        "for i in range(len(pred)):\n",
        "    if pred[i]>0.5:\n",
        "        pred[i]=1\n",
        "    elif pred[i]<=0.5:\n",
        "        pred[i]=0"
      ],
      "execution_count": null,
      "outputs": []
    },
    {
      "cell_type": "code",
      "metadata": {
        "id": "kviUEPjXDhZo"
      },
      "source": [
        "# save the cnn model for future use\n",
        "model.save('my_model_cnn.h5')\n",
        "with open('vect_cnn_2', 'wb') as fin:\n",
        "    pickle.dump(vector, fin)"
      ],
      "execution_count": null,
      "outputs": []
    },
    {
      "cell_type": "code",
      "metadata": {
        "id": "g4H9YIe8Dhal"
      },
      "source": [
        "def accuracy_function(tp,tn,fp,fn):\n",
        "  accuracy = (tp+tn) / (tp+tn+fp+fn)\n",
        "  return accuracy"
      ],
      "execution_count": null,
      "outputs": []
    },
    {
      "cell_type": "code",
      "metadata": {
        "id": "bwNZye2CDj3M"
      },
      "source": [
        "def precision_function(tp,fp):\n",
        "  precision = tp / (tp+fp)\n",
        "  return precision"
      ],
      "execution_count": null,
      "outputs": []
    },
    {
      "cell_type": "code",
      "metadata": {
        "id": "5uJ8cts8Dj5s"
      },
      "source": [
        "def recall_function(tp,fn):\n",
        "  recall=tp / (tp+fn)\n",
        "  return recall"
      ],
      "execution_count": null,
      "outputs": []
    },
    {
      "cell_type": "markdown",
      "metadata": {
        "id": "0HWVIY6S2vdH"
      },
      "source": [
        "## confusion matrix"
      ]
    },
    {
      "cell_type": "code",
      "metadata": {
        "id": "y-mFcYFcDj7l"
      },
      "source": [
        "def confusion_matrix(truth,predicted):\n",
        "    \n",
        "    true_positive = 0\n",
        "    true_negative = 0\n",
        "    false_positive = 0\n",
        "    false_negative = 0\n",
        "    \n",
        "    for true,pred in zip(truth,predicted):\n",
        "        \n",
        "        if true == 1:\n",
        "            if pred == true:\n",
        "                true_positive += 1\n",
        "            elif pred != true:\n",
        "                false_negative += 1\n",
        "\n",
        "        elif true == 0:\n",
        "            if pred == true:\n",
        "                true_negative += 1\n",
        "            elif pred != true:\n",
        "                false_positive += 1\n",
        "            \n",
        "    accuracy=accuracy_function(true_positive, true_negative, false_positive, false_negative)\n",
        "    precision=precision_function(true_positive, false_positive)\n",
        "    recall=recall_function(true_positive, false_negative)\n",
        "    \n",
        "    return (accuracy,\n",
        "            precision,\n",
        "           recall)"
      ],
      "execution_count": null,
      "outputs": []
    },
    {
      "cell_type": "markdown",
      "metadata": {
        "id": "Gf8l3N9g21FF"
      },
      "source": [
        "## Accuracy & precision & Recall"
      ]
    },
    {
      "cell_type": "code",
      "metadata": {
        "id": "JKtesBD3Dhjl"
      },
      "source": [
        "accuracy,precision,recall=confusion_matrix(y_test,pred)"
      ],
      "execution_count": null,
      "outputs": []
    },
    {
      "cell_type": "code",
      "metadata": {
        "id": "oLsmXvovDsBL"
      },
      "source": [
        "print(\" For CNN \\n Accuracy : {0} \\n Precision : {1} \\n Recall : {2}\".format(accuracy, precision, recall))"
      ],
      "execution_count": null,
      "outputs": []
    },
    {
      "cell_type": "code",
      "metadata": {
        "id": "FZ8e5zw0DsED"
      },
      "source": [
        "accuracy,precision,recall=confusion_matrix(y_test,pred_nb)\n",
        "print(\" For Naive Bayes Accuracy : {0} \\n Precision : {1} \\n Recall : {2}\".format(accuracy, precision, recall))"
      ],
      "execution_count": null,
      "outputs": []
    },
    {
      "cell_type": "code",
      "metadata": {
        "id": "Wty949nVDsGJ"
      },
      "source": [
        "accuracy,precision,recall=confusion_matrix(y_test,pred_svm)\n",
        "print(\" For SVM Accuracy : {0} \\n Precision : {1} \\n Recall : {2}\".format(accuracy, precision, recall))"
      ],
      "execution_count": null,
      "outputs": []
    },
    {
      "cell_type": "code",
      "metadata": {
        "id": "Mn72cKHNDyAT"
      },
      "source": [
        "accuracy,precision,recall=confusion_matrix(y_test,pred_knn)\n",
        "print(\" For KNN Accuracy : {0} \\n Precision : {1} \\n Recall : {2}\".format(accuracy, precision, recall))\n"
      ],
      "execution_count": null,
      "outputs": []
    },
    {
      "cell_type": "code",
      "source": [
        "accuracy,precision,recall=confusion_matrix(y_test,pred_lr)\n",
        "print(\" For Logistic Regression Accuracy : {0} \\n Precision : {1} \\n Recall : {2}\".format(accuracy, precision, recall))"
      ],
      "metadata": {
        "id": "bEiyklMgKw2T"
      },
      "execution_count": null,
      "outputs": []
    },
    {
      "cell_type": "code",
      "metadata": {
        "id": "L7NHvs43DyCn"
      },
      "source": [
        "accuracy,precision,recall=confusion_matrix(y_test,pred_dt)\n",
        "print(\" For Decision Tree Accuracy : {0} \\n Precision : {1} \\n Recall : {2}\".format(accuracy, precision, recall))"
      ],
      "execution_count": null,
      "outputs": []
    },
    {
      "cell_type": "markdown",
      "metadata": {
        "id": "8cJs49wI28b8"
      },
      "source": [
        "# Testing Result using CNN"
      ]
    },
    {
      "cell_type": "code",
      "metadata": {
        "id": "s1lT3qC6D18T"
      },
      "source": [
        "mymodel = tf.keras.models.load_model('my_model_cnn.h5')\n",
        "myvectorizer = pickle.load(open(\"vect_cnn_2\", 'rb'))\n",
        "\n",
        "def clean_data(input_val):\n",
        "\n",
        "    input_val=input_val.replace('\\n', '')\n",
        "    input_val=input_val.replace('%20', ' ')\n",
        "    input_val=input_val.replace('=', ' = ')\n",
        "    input_val=input_val.replace('((', ' (( ')\n",
        "    input_val=input_val.replace('))', ' )) ')\n",
        "    input_val=input_val.replace('(', ' ( ')\n",
        "    input_val=input_val.replace(')', ' ) ')\n",
        "    input_val=input_val.replace('1 ', 'numeric')\n",
        "    input_val=input_val.replace(' 1', 'numeric')\n",
        "    input_val=input_val.replace(\"'1 \", \"'numeric \")\n",
        "    input_val=input_val.replace(\" 1'\", \" numeric'\")\n",
        "    input_val=input_val.replace('1,', 'numeric,')\n",
        "    input_val=input_val.replace(\" 2 \", \" numeric \")\n",
        "    input_val=input_val.replace(' 3 ', ' numeric ')\n",
        "    input_val=input_val.replace(' 3--', ' numeric--')\n",
        "    input_val=input_val.replace(\" 4 \", ' numeric ')\n",
        "    input_val=input_val.replace(\" 5 \", ' numeric ')\n",
        "    input_val=input_val.replace(' 6 ', ' numeric ')\n",
        "    input_val=input_val.replace(\" 7 \", ' numeric ')\n",
        "    input_val=input_val.replace(\" 8 \", ' numeric ')\n",
        "    input_val=input_val.replace('1234', ' numeric ')\n",
        "    input_val=input_val.replace(\"22\", ' numeric ')\n",
        "    input_val=input_val.replace(\" 8 \", ' numeric ')\n",
        "    input_val=input_val.replace(\" 200 \", ' numeric ')\n",
        "    input_val=input_val.replace(\"23 \", ' numeric ')\n",
        "    input_val=input_val.replace('\"1', '\"numeric')\n",
        "    input_val=input_val.replace('1\"', '\"numeric')\n",
        "    input_val=input_val.replace(\"7659\", 'numeric')\n",
        "    input_val=input_val.replace(\" 37 \", ' numeric ')\n",
        "    input_val=input_val.replace(\" 45 \", ' numeric ')\n",
        "\n",
        "    return input_val\n",
        "\n",
        "def predict_sqli_attack():\n",
        "    \n",
        "    repeat=True\n",
        "    \n",
        "    beautify=''\n",
        "    for i in range(20):\n",
        "        beautify+= \"=\"\n",
        "\n",
        "    print(beautify) \n",
        "    input_val=input(\"Give me some data to work on : \")\n",
        "    print(beautify)\n",
        "\n",
        "    \n",
        "    if input_val== '0':\n",
        "        repeat=False\n",
        "    \n",
        "    \n",
        "\n",
        "    input_val=clean_data(input_val)\n",
        "    input_val=[input_val]\n",
        "\n",
        "\n",
        "\n",
        "    input_val=myvectorizer.transform(input_val).toarray()\n",
        "    \n",
        "    input_val.shape=(1,64,64,1)\n",
        "\n",
        "    result=mymodel.predict(input_val)\n",
        "\n",
        "\n",
        "    print(beautify)\n",
        "    \n",
        "    \n",
        "    if repeat == True:\n",
        "        \n",
        "        if result>0.5:\n",
        "            print(\"ALERT - This can be SQL injection\")\n",
        "\n",
        "\n",
        "        elif result<=0.5:\n",
        "            print(\"yes, it seems to be safe\")\n",
        "            \n",
        "        print(beautify)\n",
        "            \n",
        "        predict_sqli_attack()\n",
        "            \n",
        "    elif repeat == False:\n",
        "        print( \" see you next time \")"
      ],
      "execution_count": null,
      "outputs": []
    },
    {
      "cell_type": "markdown",
      "metadata": {
        "id": "zk4aZuNO3G4o"
      },
      "source": [
        "## Results"
      ]
    },
    {
      "cell_type": "code",
      "metadata": {
        "id": "Mw3WaO1oD1-m",
        "outputId": "f678b635-9cf4-4b89-d74d-600d0bfd208a",
        "colab": {
          "base_uri": "https://localhost:8080/",
          "height": 166
        }
      },
      "source": [
        "predict_sqli_attack()"
      ],
      "execution_count": null,
      "outputs": [
        {
          "output_type": "error",
          "ename": "NameError",
          "evalue": "ignored",
          "traceback": [
            "\u001b[0;31m---------------------------------------------------------------------------\u001b[0m",
            "\u001b[0;31mNameError\u001b[0m                                 Traceback (most recent call last)",
            "\u001b[0;32m<ipython-input-1-9d5da091aca0>\u001b[0m in \u001b[0;36m<module>\u001b[0;34m()\u001b[0m\n\u001b[0;32m----> 1\u001b[0;31m \u001b[0mpredict_sqli_attack\u001b[0m\u001b[0;34m(\u001b[0m\u001b[0;34m)\u001b[0m\u001b[0;34m\u001b[0m\u001b[0;34m\u001b[0m\u001b[0m\n\u001b[0m",
            "\u001b[0;31mNameError\u001b[0m: name 'predict_sqli_attack' is not defined"
          ]
        }
      ]
    }
  ]
}